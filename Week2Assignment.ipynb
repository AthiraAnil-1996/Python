{
  "nbformat": 4,
  "nbformat_minor": 0,
  "metadata": {
    "colab": {
      "provenance": []
    },
    "kernelspec": {
      "name": "python3",
      "display_name": "Python 3"
    },
    "language_info": {
      "name": "python"
    }
  },
  "cells": [
    {
      "cell_type": "markdown",
      "source": [
        "Write an interactive Python Program to implement following “Guess Game”\n",
        "i. Think of a number between 1 and 10 and store it in a variable called\n",
        "\"secretNumber\".\n",
        "ii. Ask the user to enter a number between 1 and 10 and store it in a variable called\n",
        "\"guess\".\n",
        "iii. Use control statements (if-else) to check if the guess is correct, higher, or lower\n",
        "than the secret number.\n",
        "iv. Display appropriate messages to the user based on their guess:\n",
        "• If the guess is correct, display \"Congratulations! You guessed the number\n",
        "correctly!\"\n",
        "• If the guess is higher than the secret number, display \"Too high! Try\n",
        "again.\"\n",
        "• If the guess is lower than the secret number, display \"Too low! Try again.\"\n",
        "v. Allow the user to keep guessing until they guess the correct number."
      ],
      "metadata": {
        "id": "FOXee8-Uuc3f"
      }
    },
    {
      "cell_type": "code",
      "execution_count": null,
      "metadata": {
        "colab": {
          "base_uri": "https://localhost:8080/"
        },
        "id": "rcbQEQKD0tBI",
        "outputId": "cf1e4239-2ad9-434c-fb40-505cdc42a535"
      },
      "outputs": [
        {
          "output_type": "stream",
          "name": "stdout",
          "text": [
            "Enter the Chances3\n",
            "Enter the Guess number between 1 and 106\n",
            "Too high, Try Again\n",
            "Enter the Guess number between 1 and 105\n",
            "Congratulations!, You guessed the number correctly\n"
          ]
        }
      ],
      "source": [
        "count = 0\n",
        "secretnumber = 5\n",
        "limit = int(input(\"Enter the Chances\"))\n",
        "while (count < limit):\n",
        "  guess = int(input(\"Enter the Guess number between 1 and 10\"))\n",
        "  if guess == secretnumber:\n",
        "    print (\"Congratulations!, You guessed the number correctly\")\n",
        "    break\n",
        "  else:\n",
        "    if guess > secretnumber:\n",
        "      print (\"Too high, Try Again\")\n",
        "      count = count +1\n",
        "\n",
        "    elif guess < secretnumber:\n",
        "      print ( \"Too Low, Try Again\")\n",
        "      count = count +1\n",
        "\n",
        "    else:\n",
        "      print (\"Try Again\")\n",
        "      count = count +1\n",
        "if count >= limit:\n",
        "  print (\"Limit Exceeded\")"
      ]
    },
    {
      "cell_type": "markdown",
      "source": [
        "Write a program to find and print the Factorial of this number. The Factorial of a positive\n",
        "integer N refers to the product of all number in the range from 1 to N."
      ],
      "metadata": {
        "id": "G0w_gufJuh32"
      }
    },
    {
      "cell_type": "code",
      "source": [
        "\n",
        "import math\n",
        "number=int(input('Enter a positive integer : '))\n",
        "factorial=math.factorial(number)\n",
        "print('The Facorial of ',number, 'is ',factorial)\n"
      ],
      "metadata": {
        "colab": {
          "base_uri": "https://localhost:8080/"
        },
        "id": "3v3haG7wtCrm",
        "outputId": "17fcdeeb-7a25-4ba6-9f19-09eddd5ff589"
      },
      "execution_count": 1,
      "outputs": [
        {
          "output_type": "stream",
          "name": "stdout",
          "text": [
            "Enter a positive integer : 5\n",
            "The Facorial of  5 is  120\n"
          ]
        }
      ]
    },
    {
      "cell_type": "markdown",
      "source": [
        "Roy wants to change his profile picture on Facebook. Now Facebook has some\n",
        "restriction over the dimension of picture that we can upload.\n",
        "Minimum dimension of the picture can be L x L, where L is the length of the side\n",
        "of square. Now Roy has N photos of various dimensions.\n",
        "Dimension of a photo is denoted as W x H\n",
        "where W - width of the photo and H - Height of the photo\n",
        "• When any photo is uploaded following events may occur:\n",
        "[1] If any of the width or height is less than L, user is prompted to upload another\n",
        "one. Print \"UPLOAD ANOTHER\" in this case."
      ],
      "metadata": {
        "id": "lZDnOWBIupoJ"
      }
    },
    {
      "cell_type": "code",
      "source": [
        "L=int(input('Enter length of the photo : '))\n",
        "N=int(input('Enter the number of photos : '))\n",
        "for i in range(N):\n",
        " W,H=map(int,input(f'Enter width and height of photo {i+1} : ').split(' '))\n",
        " if W<L or H<L:\n",
        "  print('UPLOAD ANOTHER')\n",
        " elif W>L and H>L:\n",
        "  print('CROP IT photo')\n",
        " else:\n",
        "  print('ACCEPTED')"
      ],
      "metadata": {
        "colab": {
          "base_uri": "https://localhost:8080/"
        },
        "id": "iyiBp7eatJQ_",
        "outputId": "f3d6c69f-4f61-47ef-b180-f3814e52b1c3"
      },
      "execution_count": 3,
      "outputs": [
        {
          "output_type": "stream",
          "name": "stdout",
          "text": [
            "Enter length of the photo : 4\n",
            "Enter the number of photos : 3\n",
            "Enter width and height of photo 1 : 2 3\n",
            "UPLOAD ANOTHER\n",
            "Enter width and height of photo 2 : 5 6\n",
            "CROP IT photo\n",
            "Enter width and height of photo 3 : 4 4\n",
            "ACCEPTED\n"
          ]
        }
      ]
    },
    {
      "cell_type": "code",
      "source": [],
      "metadata": {
        "id": "lySh7OZptghD"
      },
      "execution_count": null,
      "outputs": []
    }
  ]
}