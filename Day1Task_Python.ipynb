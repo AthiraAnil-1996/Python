{
  "nbformat": 4,
  "nbformat_minor": 0,
  "metadata": {
    "colab": {
      "provenance": []
    },
    "kernelspec": {
      "name": "python3",
      "display_name": "Python 3"
    },
    "language_info": {
      "name": "python"
    }
  },
  "cells": [
    {
      "cell_type": "markdown",
      "source": [
        "Question 1"
      ],
      "metadata": {
        "id": "lfXBA0OAxlB1"
      }
    },
    {
      "cell_type": "code",
      "execution_count": 4,
      "metadata": {
        "id": "4atJGpPC5G8W",
        "colab": {
          "base_uri": "https://localhost:8080/"
        },
        "outputId": "3e1e5cf2-265a-4998-ed84-c83e91697f2a"
      },
      "outputs": [
        {
          "output_type": "stream",
          "name": "stdout",
          "text": [
            "Hello\n"
          ]
        }
      ],
      "source": [
        "str1 = \"Hello World\"\n",
        "print(str1[0:5])"
      ]
    },
    {
      "cell_type": "markdown",
      "source": [
        "Question 2"
      ],
      "metadata": {
        "id": "wY0YLrhXxqAd"
      }
    },
    {
      "cell_type": "code",
      "source": [
        "str2 = \"Python is fun\"\n",
        "print(str2[7:9])"
      ],
      "metadata": {
        "colab": {
          "base_uri": "https://localhost:8080/"
        },
        "id": "S8hpusxknrM8",
        "outputId": "f2205a89-7144-4032-fc61-aee4aabf64d1"
      },
      "execution_count": 5,
      "outputs": [
        {
          "output_type": "stream",
          "name": "stdout",
          "text": [
            "is\n"
          ]
        }
      ]
    },
    {
      "cell_type": "markdown",
      "source": [
        "Question 3"
      ],
      "metadata": {
        "id": "sygT0R6HxtZv"
      }
    },
    {
      "cell_type": "code",
      "source": [
        "str3 = \"Programming\"\n",
        "print(str3[3:7])"
      ],
      "metadata": {
        "colab": {
          "base_uri": "https://localhost:8080/"
        },
        "id": "Jbz26TP6n3RP",
        "outputId": "a7846ef7-e9e9-4423-a025-fd7b81aec103"
      },
      "execution_count": 6,
      "outputs": [
        {
          "output_type": "stream",
          "name": "stdout",
          "text": [
            "gram\n"
          ]
        }
      ]
    },
    {
      "cell_type": "markdown",
      "source": [
        "Question 4"
      ],
      "metadata": {
        "id": "Uy3LgquYxvpz"
      }
    },
    {
      "cell_type": "code",
      "source": [
        "str4 = \"abcdefgh\"\n",
        "print(str4[1: :2])"
      ],
      "metadata": {
        "colab": {
          "base_uri": "https://localhost:8080/"
        },
        "id": "_box5Nm1oG_J",
        "outputId": "a900f09f-7874-4ce0-8cf9-afc17067c7ee"
      },
      "execution_count": 8,
      "outputs": [
        {
          "output_type": "stream",
          "name": "stdout",
          "text": [
            "bdfh\n"
          ]
        }
      ]
    },
    {
      "cell_type": "markdown",
      "source": [
        "Question 5"
      ],
      "metadata": {
        "id": "drizybk4xyWo"
      }
    },
    {
      "cell_type": "code",
      "source": [
        "str5 = \"abcdefg\"\n",
        "print(str5[-3: ])"
      ],
      "metadata": {
        "colab": {
          "base_uri": "https://localhost:8080/"
        },
        "id": "mwBj9p5NoqXe",
        "outputId": "cb4c081d-8827-463e-e3c2-d42cc70d9877"
      },
      "execution_count": 11,
      "outputs": [
        {
          "output_type": "stream",
          "name": "stdout",
          "text": [
            "efg\n"
          ]
        }
      ]
    },
    {
      "cell_type": "markdown",
      "source": [
        "Question 6"
      ],
      "metadata": {
        "id": "xQb4z8gtx0Py"
      }
    },
    {
      "cell_type": "code",
      "source": [
        "str6 = \"Data Science\"\n",
        "print(str6[-3: ])"
      ],
      "metadata": {
        "colab": {
          "base_uri": "https://localhost:8080/"
        },
        "id": "f5_klGgRpQZv",
        "outputId": "cd92506f-4dbc-445e-dd77-29b1da16e42f"
      },
      "execution_count": 12,
      "outputs": [
        {
          "output_type": "stream",
          "name": "stdout",
          "text": [
            "nce\n"
          ]
        }
      ]
    },
    {
      "cell_type": "markdown",
      "source": [
        "Question 7"
      ],
      "metadata": {
        "id": "p-6Pmugsx4L6"
      }
    },
    {
      "cell_type": "code",
      "source": [
        "str7 = \"abcdefghij\"\n",
        "print(str7[1:len(str7):2])"
      ],
      "metadata": {
        "colab": {
          "base_uri": "https://localhost:8080/"
        },
        "id": "GDcccBbgplnh",
        "outputId": "1c130e85-ce1b-4cc5-803f-26a92a93d201"
      },
      "execution_count": 14,
      "outputs": [
        {
          "output_type": "stream",
          "name": "stdout",
          "text": [
            "bdfhj\n"
          ]
        }
      ]
    },
    {
      "cell_type": "markdown",
      "source": [
        "Question 8"
      ],
      "metadata": {
        "id": "q8vZLf9Zx7d9"
      }
    },
    {
      "cell_type": "code",
      "source": [
        "str8 = \"1234567890\"\n",
        "print(str8[0: :2])"
      ],
      "metadata": {
        "colab": {
          "base_uri": "https://localhost:8080/"
        },
        "id": "FMRBtiyXqzQt",
        "outputId": "7d6a1c34-1485-46d6-fadc-3720b031e594"
      },
      "execution_count": 15,
      "outputs": [
        {
          "output_type": "stream",
          "name": "stdout",
          "text": [
            "13579\n"
          ]
        }
      ]
    },
    {
      "cell_type": "markdown",
      "source": [
        "Question 9"
      ],
      "metadata": {
        "id": "XTvO_e3Zx-a0"
      }
    },
    {
      "cell_type": "code",
      "source": [
        "str9 = \"Hello\"\n",
        "print(str9[ : :-1 ])"
      ],
      "metadata": {
        "colab": {
          "base_uri": "https://localhost:8080/"
        },
        "id": "eTQx1yorrMBo",
        "outputId": "7cbbffcd-8471-4314-d4c3-7c9e4ca594a2"
      },
      "execution_count": 19,
      "outputs": [
        {
          "output_type": "stream",
          "name": "stdout",
          "text": [
            "olleH\n"
          ]
        }
      ]
    },
    {
      "cell_type": "markdown",
      "source": [
        "Question 10"
      ],
      "metadata": {
        "id": "7f0iyRq4yAue"
      }
    },
    {
      "cell_type": "code",
      "source": [
        "str10 = \"abcdefghijk\"\n",
        "print(str10[0: :2])"
      ],
      "metadata": {
        "colab": {
          "base_uri": "https://localhost:8080/"
        },
        "id": "hdcBKs0esTmt",
        "outputId": "7eaef3af-c59a-4274-ad7e-3e6ac7ce2c4f"
      },
      "execution_count": 21,
      "outputs": [
        {
          "output_type": "stream",
          "name": "stdout",
          "text": [
            "acegik\n"
          ]
        }
      ]
    },
    {
      "cell_type": "code",
      "source": [],
      "metadata": {
        "id": "XoI2XCIjtBuA"
      },
      "execution_count": null,
      "outputs": []
    }
  ]
}