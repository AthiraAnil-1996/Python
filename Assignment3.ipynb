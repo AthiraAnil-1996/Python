{
  "nbformat": 4,
  "nbformat_minor": 0,
  "metadata": {
    "colab": {
      "provenance": []
    },
    "kernelspec": {
      "name": "python3",
      "display_name": "Python 3"
    },
    "language_info": {
      "name": "python"
    }
  },
  "cells": [
    {
      "cell_type": "code",
      "execution_count": null,
      "metadata": {
        "id": "UdSBiMCnJg34"
      },
      "outputs": [],
      "source": []
    },
    {
      "cell_type": "markdown",
      "source": [
        "Write a function that returns the middle value among three integers.Write code to test this\n",
        "function with different inputs."
      ],
      "metadata": {
        "id": "DSa5HqPLJr6O"
      }
    },
    {
      "cell_type": "code",
      "source": [
        "def mid_value(a,b,c):\n",
        "  lst=[a,b,c]\n",
        "  return lst[1]\n",
        "print(mid_value(2,5,9))\n",
        "print(mid_value(123,345,1))\n",
        "print(mid_value(561,465,51))\n",
        "print(mid_value(112,45,212))\n",
        "print(mid_value(125,45,212))"
      ],
      "metadata": {
        "colab": {
          "base_uri": "https://localhost:8080/"
        },
        "id": "PRZ2qTNAJuro",
        "outputId": "b9e9f039-2da7-42da-bbd9-388fd350e5f9"
      },
      "execution_count": 5,
      "outputs": [
        {
          "output_type": "stream",
          "name": "stdout",
          "text": [
            "5\n",
            "345\n",
            "465\n",
            "45\n",
            "45\n"
          ]
        }
      ]
    },
    {
      "cell_type": "code",
      "source": [],
      "metadata": {
        "id": "jydXa-0MJ6uS"
      },
      "execution_count": null,
      "outputs": []
    },
    {
      "cell_type": "markdown",
      "source": [
        "Build a calculator in Python using functions"
      ],
      "metadata": {
        "id": "KzTKzbpuKmCO"
      }
    },
    {
      "cell_type": "code",
      "source": [
        "def add(x, y):\n",
        "    return x + y\n",
        "\n",
        "# This function subtracts two numbers\n",
        "def subtract(x, y):\n",
        "    return x - y\n",
        "\n",
        "# This function multiplies two numbers\n",
        "def multiply(x, y):\n",
        "    return x * y\n",
        "\n",
        "# This function divides two numbers\n",
        "def divide(x, y):\n",
        "    return x / y\n",
        "\n",
        "\n",
        "print(\"Select operation.\")\n",
        "print(\"1.Add\")\n",
        "print(\"2.Subtract\")\n",
        "print(\"3.Multiply\")\n",
        "print(\"4.Divide\")\n",
        "\n",
        "while True:\n",
        "    # take input from the user\n",
        "    choice = input(\"Enter choice(1/2/3/4): \")\n",
        "\n",
        "    # check if choice is one of the four options\n",
        "    if choice in ('1', '2', '3', '4'):\n",
        "        try:\n",
        "            num1 = float(input(\"Enter first number: \"))\n",
        "            num2 = float(input(\"Enter second number: \"))\n",
        "        except ValueError:\n",
        "            print(\"Invalid input. Please enter a number.\")\n",
        "            continue\n",
        "\n",
        "        if choice == '1':\n",
        "            print(num1, \"+\", num2, \"=\", add(num1, num2))\n",
        "\n",
        "        elif choice == '2':\n",
        "            print(num1, \"-\", num2, \"=\", subtract(num1, num2))\n",
        "\n",
        "        elif choice == '3':\n",
        "            print(num1, \"*\", num2, \"=\", multiply(num1, num2))\n",
        "\n",
        "        elif choice == '4':\n",
        "            print(num1, \"/\", num2, \"=\", divide(num1, num2))\n",
        "\n",
        "        # check if user wants another calculation\n",
        "        # break the while loop if answer is no\n",
        "        next_calculation = input(\"Let's do next calculation? (yes/no): \")\n",
        "        if next_calculation == \"no\":\n",
        "          break\n",
        "    else:\n",
        "        print(\"Invalid Input\")\n",
        "\n",
        "\n",
        "\n"
      ],
      "metadata": {
        "colab": {
          "base_uri": "https://localhost:8080/"
        },
        "id": "ON_G_jPFKoVR",
        "outputId": "f469bc96-2c1a-4051-d4de-54244dd8983a"
      },
      "execution_count": 21,
      "outputs": [
        {
          "name": "stdout",
          "output_type": "stream",
          "text": [
            "Select operation.\n",
            "1.Add\n",
            "2.Subtract\n",
            "3.Multiply\n",
            "4.Divide\n",
            "Enter choice(1/2/3/4): 5\n",
            "Invalid Input\n",
            "Enter choice(1/2/3/4): 1\n",
            "Enter first number: 2\n",
            "Enter second number: 2\n",
            "2.0 + 2.0 = 4.0\n",
            "Let's do next calculation? (yes/no): yes\n",
            "Enter choice(1/2/3/4): 2\n",
            "Enter first number: 3\n",
            "Enter second number: 4\n",
            "3.0 - 4.0 = -1.0\n",
            "Let's do next calculation? (yes/no): no\n"
          ]
        }
      ]
    },
    {
      "cell_type": "markdown",
      "source": [
        "Write a function that takes the lengths of the two shorter sides of a right triangle as its\n",
        "parameters. Return the hypotenuse of the triangle, computed using Pythagorean theorem,\n",
        "as the function’s result."
      ],
      "metadata": {
        "id": "c9_2YwCnNzja"
      }
    },
    {
      "cell_type": "code",
      "source": [
        "import math\n",
        "def hypotenuse_cal(l1,l2):\n",
        "  result=math.sqrt(l1*2+l2*2)\n",
        "  return result\n",
        "l1=float(input('Enter shorter sides 1 of a right triangle : '))\n",
        "l2=float(input('Enter shorter sides 2 of a right triangle : '))\n",
        "hypotenuse=hypotenuse_cal(l1,l2)\n",
        "print('Hypotenuse of the triangle is :',hypotenuse)"
      ],
      "metadata": {
        "colab": {
          "base_uri": "https://localhost:8080/"
        },
        "id": "UhIDK5TaNzEb",
        "outputId": "1b180021-d14b-4031-e55f-210ec187ec18"
      },
      "execution_count": 15,
      "outputs": [
        {
          "output_type": "stream",
          "name": "stdout",
          "text": [
            "Enter shorter sides 1 of a right triangle : 5\n",
            "Enter shorter sides 2 of a right triangle : 5\n",
            "Hypotenuse of the triangle is : 4.47213595499958\n"
          ]
        }
      ]
    },
    {
      "cell_type": "markdown",
      "source": [
        "The Rectangle problem\n",
        "(a) Write a Rectangle class in Python language, allowing you to build a rectangle with\n",
        "length and width attributes.\n",
        "(b) Create a Perimeter() method to calculate the perimeter of the rectangle and a Area()\n",
        "method to calculate the area of the rectangle.\n",
        "(c) Create a method display() that display the length, width, perimeter and area of an\n",
        "object created using an instantiation on rectangle class."
      ],
      "metadata": {
        "id": "8llc4mnUO1jM"
      }
    },
    {
      "cell_type": "code",
      "source": [
        "class Rectangle:\n",
        "  def __init__(self,length,width):\n",
        "    self.length=length\n",
        "    self.width=width\n",
        "  def Perimeter(self):\n",
        "    p=2*(self.length+self.width)\n",
        "    return p\n",
        "  def Area(self):\n",
        "    A=self.length*self.width\n",
        "    return A\n",
        "  def display(self):\n",
        "    print('Length of the rectangle is : ',self.length)\n",
        "    print('Width of the rectangle is : ',self.width)\n",
        "    print('Perimeter of the rectangle is : ',self.Perimeter())\n",
        "    print('Area of the rectangle is : ',self.Area())\n",
        "length=float(input('Enter length of the rectangle : '))\n",
        "width=float(input('Enter width of the rectangle : '))\n",
        "my_Rectangle=Rectangle(length,width)\n",
        "my_Rectangle.display()"
      ],
      "metadata": {
        "colab": {
          "base_uri": "https://localhost:8080/"
        },
        "id": "-omzgRaRO2mn",
        "outputId": "ee3e536d-540c-4334-b3e2-6f662ddd7c46"
      },
      "execution_count": 18,
      "outputs": [
        {
          "output_type": "stream",
          "name": "stdout",
          "text": [
            "Enter length of the rectangle : 3\n",
            "Enter width of the rectangle : 4\n",
            "Length of the rectangle is :  3.0\n",
            "Width of the rectangle is :  4.0\n",
            "Perimeter of the rectangle is :  14.0\n",
            "Area of the rectangle is :  12.0\n"
          ]
        }
      ]
    },
    {
      "cell_type": "markdown",
      "source": [
        "The Bank Account problem\n",
        "(a) Create a Python class called BankAccount which represents a bank account, having\n",
        "as attributes: accountNumber (numeric type), name (name of the account owner as\n",
        "string type), balance.\n",
        "(b) Create a constructor with parameters: accountNumber, name, balance.\n",
        "(c) Create a Deposit() method which manages the deposit actions.\n",
        "(d) Create a Withdrawal() method which manages withdrawals actions.\n",
        "(e) Create an bankFees() method to apply the bank fees with a percentage of 5% of the\n",
        "balance account.\n",
        "(f) Create a display() method to display account details."
      ],
      "metadata": {
        "id": "_evaDrXgSblH"
      }
    },
    {
      "cell_type": "code",
      "source": [
        "class BankAccount():\n",
        "  def __init__(self,AccoutNumber,Owner,Balance):\n",
        "    self.AccoutNumber=AccoutNumber\n",
        "    self.Owner=Owner\n",
        "    self.Balance=Balance\n",
        "  def Deposit(self,amount):\n",
        "    self.Balance=self.Balance+amount\n",
        "    print(amount,'has been deposited to your account')\n",
        "  def Withdrawal(self,amount):\n",
        "    self.Balance=self.Balance-amount\n",
        "    print(amount,'has been withdrawed from your account')\n",
        "  def bankFees(self):\n",
        "    fee=(5*self.Balance)/100\n",
        "    self.Balance=self.Balance-fee\n",
        "    print('Bank fee is : ',fee)\n",
        "  def display(self):\n",
        "    print('Account Number : ',self.AccoutNumber)\n",
        "    print('Owner          : ',self.Owner)\n",
        "    print('Balance        : ',self.Balance)\n",
        "\n",
        "AccountNumber=int(input('Enter your account number : '))\n",
        "Owner=input('Enter name of the account owner : ')\n",
        "Balance=float(input('Enter the balance of your account : '))\n",
        "dep=int(input('Enter the amount to be deposit: '))\n",
        "withdraw=int(input('Enter the amount to be withdrawed: '))\n",
        "\n",
        "\n",
        "my_account=BankAccount(AccountNumber,Owner,Balance)\n",
        "my_account.display()\n",
        "my_account.Deposit(dep)\n",
        "my_account.Withdrawal(withdraw)\n",
        "my_account.bankFees()\n",
        "my_account.display()"
      ],
      "metadata": {
        "colab": {
          "base_uri": "https://localhost:8080/"
        },
        "id": "WrmLuGsUSebY",
        "outputId": "f89ed831-1f3c-44d9-f7d3-f967ad86a5cb"
      },
      "execution_count": 19,
      "outputs": [
        {
          "output_type": "stream",
          "name": "stdout",
          "text": [
            "Enter your account number : 1\n",
            "Enter name of the account owner : Athira\n",
            "Enter the balance of your account : 5000\n",
            "Enter the amount to be deposit: 500\n",
            "Enter the amount to be withdrawed: 100\n",
            "Account Number :  1\n",
            "Owner          :  Athira\n",
            "Balance        :  5000.0\n",
            "500 has been deposited to your account\n",
            "100 has been withdrawed from your account\n",
            "Bank fee is :  270.0\n",
            "Account Number :  1\n",
            "Owner          :  Athira\n",
            "Balance        :  5130.0\n"
          ]
        }
      ]
    }
  ]
}