{
  "nbformat": 4,
  "nbformat_minor": 0,
  "metadata": {
    "colab": {
      "provenance": []
    },
    "kernelspec": {
      "name": "python3",
      "display_name": "Python 3"
    },
    "language_info": {
      "name": "python"
    }
  },
  "cells": [
    {
      "cell_type": "markdown",
      "source": [
        "1. Write a program to find sum of all elements in a list of integers."
      ],
      "metadata": {
        "id": "giaVfpdIKv4d"
      }
    },
    {
      "cell_type": "code",
      "execution_count": 3,
      "metadata": {
        "colab": {
          "base_uri": "https://localhost:8080/"
        },
        "id": "hHeo0KAYEXf3",
        "outputId": "a368c70c-d072-4434-d205-226180cf6db0"
      },
      "outputs": [
        {
          "output_type": "stream",
          "name": "stdout",
          "text": [
            "210\n"
          ]
        }
      ],
      "source": [
        "list1 = [10,20,30,40,50,60]\n",
        "print (sum(list1))"
      ]
    },
    {
      "cell_type": "markdown",
      "source": [
        "2. Input a sentence as a string.\n",
        "a) Print its length\n",
        "b) Print the first half of string"
      ],
      "metadata": {
        "id": "I0Mhl9D4TcJ7"
      }
    },
    {
      "cell_type": "code",
      "source": [
        "str1 = input(\"Enter a String\")\n",
        "length = len(str1)\n",
        "print (\"Length of the String is\", length)\n",
        "\n"
      ],
      "metadata": {
        "colab": {
          "base_uri": "https://localhost:8080/"
        },
        "id": "eyvgwSwxKZIK",
        "outputId": "d3e7180d-a2e5-4dbd-d70b-b36b74dd2e07"
      },
      "execution_count": 16,
      "outputs": [
        {
          "output_type": "stream",
          "name": "stdout",
          "text": [
            "Enter a String Hello, Welcome to the world of Python !\n",
            "Length of the String is 40\n"
          ]
        }
      ]
    },
    {
      "cell_type": "code",
      "source": [
        "\n",
        "\n",
        "print (str1[ :len(str1)//2])\n"
      ],
      "metadata": {
        "colab": {
          "base_uri": "https://localhost:8080/"
        },
        "id": "20ximYJFTMcl",
        "outputId": "81e695fc-ed88-4747-8e5f-324806c59dfd"
      },
      "execution_count": 29,
      "outputs": [
        {
          "output_type": "stream",
          "name": "stdout",
          "text": [
            " Hello, Welcome to t\n"
          ]
        }
      ]
    },
    {
      "cell_type": "code",
      "source": [
        "t1 = (78,45,32,19,82,77,40,39)\n",
        "type (t1)"
      ],
      "metadata": {
        "colab": {
          "base_uri": "https://localhost:8080/"
        },
        "id": "uiH-ZrSuUEvd",
        "outputId": "2218397f-707b-415c-d708-e987cc3531ee"
      },
      "execution_count": 19,
      "outputs": [
        {
          "output_type": "execute_result",
          "data": {
            "text/plain": [
              "tuple"
            ]
          },
          "metadata": {},
          "execution_count": 19
        }
      ]
    },
    {
      "cell_type": "code",
      "source": [
        "list1 = list (t1)"
      ],
      "metadata": {
        "id": "zWGM8si1Z6lH"
      },
      "execution_count": 20,
      "outputs": []
    },
    {
      "cell_type": "code",
      "source": [
        "type (list1)"
      ],
      "metadata": {
        "colab": {
          "base_uri": "https://localhost:8080/"
        },
        "id": "D1WbBaBJaDFV",
        "outputId": "9632041d-19a5-4787-9a86-41816b087d93"
      },
      "execution_count": 21,
      "outputs": [
        {
          "output_type": "execute_result",
          "data": {
            "text/plain": [
              "list"
            ]
          },
          "metadata": {},
          "execution_count": 21
        }
      ]
    },
    {
      "cell_type": "code",
      "source": [
        "list1[2] = 100\n"
      ],
      "metadata": {
        "id": "ay-84wcRaHDv"
      },
      "execution_count": 23,
      "outputs": []
    },
    {
      "cell_type": "code",
      "source": [
        "print (list1)\n"
      ],
      "metadata": {
        "colab": {
          "base_uri": "https://localhost:8080/"
        },
        "id": "oxM2-oKPa14X",
        "outputId": "b1191617-56b7-4529-d77b-4aa10a7ff6dc"
      },
      "execution_count": 24,
      "outputs": [
        {
          "output_type": "stream",
          "name": "stdout",
          "text": [
            "[78, 45, 100, 19, 82, 77, 40, 39]\n"
          ]
        }
      ]
    },
    {
      "cell_type": "code",
      "source": [
        "t1 = tuple(list1)"
      ],
      "metadata": {
        "id": "vD_aubJua8BJ"
      },
      "execution_count": 25,
      "outputs": []
    },
    {
      "cell_type": "code",
      "source": [
        "print (t1)\n",
        "type (t1)\n",
        "\n"
      ],
      "metadata": {
        "colab": {
          "base_uri": "https://localhost:8080/"
        },
        "id": "YaGjj2recgJI",
        "outputId": "e25b56dc-7d69-4ffb-b1ad-67f85ea9babb"
      },
      "execution_count": 26,
      "outputs": [
        {
          "output_type": "stream",
          "name": "stdout",
          "text": [
            "(78, 45, 100, 19, 82, 77, 40, 39)\n"
          ]
        },
        {
          "output_type": "execute_result",
          "data": {
            "text/plain": [
              "tuple"
            ]
          },
          "metadata": {},
          "execution_count": 26
        }
      ]
    },
    {
      "cell_type": "markdown",
      "source": [
        "3 . Consider a list listA=[19,32,10,55,31,32,94,29,10,65,77,40,40]"
      ],
      "metadata": {
        "id": "ADUGk4-Ccy6u"
      }
    },
    {
      "cell_type": "markdown",
      "source": [
        "a. Delete the first occurrence of 32"
      ],
      "metadata": {
        "id": "taP7_B4Zc1sA"
      }
    },
    {
      "cell_type": "code",
      "source": [
        "listA = [19,32,10,55,31,32,94,29,10,65,77,40,40]\n",
        "listA.remove(32)"
      ],
      "metadata": {
        "id": "uUVo2vOkcq89"
      },
      "execution_count": 27,
      "outputs": []
    },
    {
      "cell_type": "code",
      "source": [
        "print(listA)"
      ],
      "metadata": {
        "colab": {
          "base_uri": "https://localhost:8080/"
        },
        "id": "lHvqowmLeesJ",
        "outputId": "59e08aab-bb11-4057-ae3c-ead56a0fc8cd"
      },
      "execution_count": 28,
      "outputs": [
        {
          "output_type": "stream",
          "name": "stdout",
          "text": [
            "[19, 10, 55, 31, 32, 94, 29, 10, 65, 77, 40, 40]\n"
          ]
        }
      ]
    },
    {
      "cell_type": "markdown",
      "source": [
        "(b) Delete all occurrences of 40\n"
      ],
      "metadata": {
        "id": "y9jMptbAfsQ9"
      }
    },
    {
      "cell_type": "code",
      "source": [
        "listA.remove(40)\n",
        "print(listA)\n"
      ],
      "metadata": {
        "id": "jGFm0-pLein6"
      },
      "execution_count": null,
      "outputs": []
    },
    {
      "cell_type": "code",
      "source": [
        "print(listA)"
      ],
      "metadata": {
        "colab": {
          "base_uri": "https://localhost:8080/"
        },
        "id": "2VxMMTXUgTPS",
        "outputId": "64bb77b6-8bae-4070-a07f-ac6b4c3d479f"
      },
      "execution_count": 35,
      "outputs": [
        {
          "output_type": "stream",
          "name": "stdout",
          "text": [
            "[19, 10, 55, 31, 32, 94, 29, 10, 65, 77]\n"
          ]
        }
      ]
    },
    {
      "cell_type": "code",
      "source": [],
      "metadata": {
        "id": "DFCqg_cTg475"
      },
      "execution_count": null,
      "outputs": []
    },
    {
      "cell_type": "code",
      "source": [],
      "metadata": {
        "id": "rCv5MM4jkCug"
      },
      "execution_count": null,
      "outputs": []
    },
    {
      "cell_type": "markdown",
      "source": [
        "(c) Delete the value at index=5"
      ],
      "metadata": {
        "id": "JFIj7Q6okAqt"
      }
    },
    {
      "cell_type": "code",
      "source": [
        "del listA[5]"
      ],
      "metadata": {
        "id": "cKGHTb7jkE60"
      },
      "execution_count": 41,
      "outputs": []
    },
    {
      "cell_type": "code",
      "source": [
        "print (listA)"
      ],
      "metadata": {
        "colab": {
          "base_uri": "https://localhost:8080/"
        },
        "id": "WqTN8VL4kNkw",
        "outputId": "dde17ff9-8c14-44e7-fa91-8fadf665cfee"
      },
      "execution_count": 42,
      "outputs": [
        {
          "output_type": "stream",
          "name": "stdout",
          "text": [
            "[19, 10, 55, 31, 32, 29, 10, 65, 77]\n"
          ]
        }
      ]
    },
    {
      "cell_type": "markdown",
      "source": [
        "(d) Modify the value at index=9 as 300"
      ],
      "metadata": {
        "id": "2OVMdgvgkV40"
      }
    },
    {
      "cell_type": "code",
      "source": [
        "listB = [19,32,10,55,31,32,94,29,10,65,77,40,40]\n",
        "listB[9] = 300\n",
        "print (listB)"
      ],
      "metadata": {
        "colab": {
          "base_uri": "https://localhost:8080/"
        },
        "id": "01540dXukZE2",
        "outputId": "4902c7d5-c648-439f-8367-7dfd58f17a09"
      },
      "execution_count": 43,
      "outputs": [
        {
          "output_type": "stream",
          "name": "stdout",
          "text": [
            "[19, 32, 10, 55, 31, 32, 94, 29, 10, 300, 77, 40, 40]\n"
          ]
        }
      ]
    },
    {
      "cell_type": "markdown",
      "source": [
        "(e) Add 200 at index=2"
      ],
      "metadata": {
        "id": "QeQcdOV5mBR2"
      }
    },
    {
      "cell_type": "code",
      "source": [
        "listB.insert(2,200)\n",
        "print (listB)"
      ],
      "metadata": {
        "colab": {
          "base_uri": "https://localhost:8080/"
        },
        "id": "2M3aMNy3l3y-",
        "outputId": "7eb7fa35-ebd9-435f-e752-567a455ff8c8"
      },
      "execution_count": 47,
      "outputs": [
        {
          "output_type": "stream",
          "name": "stdout",
          "text": [
            "[19, 32, 200, 10, 55, 31, 32, 94, 29, 10, 300, 77, 40, 40]\n"
          ]
        }
      ]
    },
    {
      "cell_type": "code",
      "source": [],
      "metadata": {
        "id": "M01Aqqheq58i"
      },
      "execution_count": null,
      "outputs": []
    },
    {
      "cell_type": "markdown",
      "source": [
        "(f) Print the final list with its length, maximum value\n",
        "and sum of all elements"
      ],
      "metadata": {
        "id": "tQBOVjs_rzF1"
      }
    },
    {
      "cell_type": "code",
      "source": [
        "print(listA)\n",
        "print(listB)"
      ],
      "metadata": {
        "colab": {
          "base_uri": "https://localhost:8080/"
        },
        "id": "uazROj62r965",
        "outputId": "288e08d5-cbda-4b65-b43b-9ca41435ac4d"
      },
      "execution_count": 49,
      "outputs": [
        {
          "output_type": "stream",
          "name": "stdout",
          "text": [
            "[19, 10, 55, 31, 32, 29, 10, 65, 77]\n",
            "[19, 32, 200, 10, 55, 31, 32, 94, 29, 10, 300, 77, 40, 40]\n"
          ]
        }
      ]
    },
    {
      "cell_type": "code",
      "source": [
        "print(len(listA))\n",
        "print(len(listB))"
      ],
      "metadata": {
        "colab": {
          "base_uri": "https://localhost:8080/"
        },
        "id": "heznZV1LsNCs",
        "outputId": "33da1eab-6f73-48e3-eadf-12c684525144"
      },
      "execution_count": 50,
      "outputs": [
        {
          "output_type": "stream",
          "name": "stdout",
          "text": [
            "9\n",
            "14\n"
          ]
        }
      ]
    },
    {
      "cell_type": "code",
      "source": [
        "print(sum(listA))\n",
        "print(sum(listB))"
      ],
      "metadata": {
        "colab": {
          "base_uri": "https://localhost:8080/"
        },
        "id": "gqX3NhBosWSX",
        "outputId": "83fe4ca1-4b29-4d24-ab6f-e26b7434e4c1"
      },
      "execution_count": 51,
      "outputs": [
        {
          "output_type": "stream",
          "name": "stdout",
          "text": [
            "328\n",
            "969\n"
          ]
        }
      ]
    },
    {
      "cell_type": "code",
      "source": [],
      "metadata": {
        "id": "pSPip1i5sjaH"
      },
      "execution_count": null,
      "outputs": []
    },
    {
      "cell_type": "markdown",
      "source": [
        "Consider a string ”The day has been long”.\n",
        "(a) Delete the value at index =4"
      ],
      "metadata": {
        "id": "7gLncmxLsqBZ"
      }
    },
    {
      "cell_type": "code",
      "source": [
        "str22 = \"The day has been long\"\n",
        "s1 = str22[0:4:]+str22[5::]\n",
        "print(s1)\n"
      ],
      "metadata": {
        "colab": {
          "base_uri": "https://localhost:8080/"
        },
        "id": "LoILIs59sxHl",
        "outputId": "482fd03e-f1fd-478c-d5b8-44b58e362783"
      },
      "execution_count": 55,
      "outputs": [
        {
          "output_type": "stream",
          "name": "stdout",
          "text": [
            "The ay has been long\n"
          ]
        }
      ]
    },
    {
      "cell_type": "markdown",
      "source": [
        "(b) Print the string 4 times in a single line with space\n",
        "between each repetition"
      ],
      "metadata": {
        "id": "55hh2R3DyhO6"
      }
    },
    {
      "cell_type": "code",
      "source": [
        "print(str22 *4)"
      ],
      "metadata": {
        "colab": {
          "base_uri": "https://localhost:8080/"
        },
        "id": "tgkxLCo5ysUZ",
        "outputId": "575739f2-1edd-4b45-b442-41f8db54a854"
      },
      "execution_count": 56,
      "outputs": [
        {
          "output_type": "stream",
          "name": "stdout",
          "text": [
            "The day has been longThe day has been longThe day has been longThe day has been long\n"
          ]
        }
      ]
    },
    {
      "cell_type": "markdown",
      "source": [
        "(c) Print the string 3 times in a new line each time"
      ],
      "metadata": {
        "id": "dXeHaj3_zMYY"
      }
    },
    {
      "cell_type": "code",
      "source": [
        "print(\"The day has been long\\n\" *4)"
      ],
      "metadata": {
        "colab": {
          "base_uri": "https://localhost:8080/"
        },
        "id": "iaXrYIE2yw-c",
        "outputId": "b782b69f-9294-4025-b439-9dd7d581fe38"
      },
      "execution_count": 58,
      "outputs": [
        {
          "output_type": "stream",
          "name": "stdout",
          "text": [
            "The day has been long\n",
            "The day has been long\n",
            "The day has been long\n",
            "The day has been long\n",
            "\n"
          ]
        }
      ]
    },
    {
      "cell_type": "markdown",
      "source": [
        "(d) Modify the string at index 7 as ’A’"
      ],
      "metadata": {
        "id": "ZElZXCGwzOEw"
      }
    },
    {
      "cell_type": "code",
      "source": [
        "S2=str22[:7]+'A'+str22[7:]\n",
        "print(S2)"
      ],
      "metadata": {
        "colab": {
          "base_uri": "https://localhost:8080/"
        },
        "id": "0zklcwtSy7eK",
        "outputId": "ac7672cc-4dc0-4ef3-c94f-ec0e68ead81c"
      },
      "execution_count": 59,
      "outputs": [
        {
          "output_type": "stream",
          "name": "stdout",
          "text": [
            "The dayA has been long\n"
          ]
        }
      ]
    },
    {
      "cell_type": "code",
      "source": [],
      "metadata": {
        "id": "mI27n3iPzhD1"
      },
      "execution_count": null,
      "outputs": []
    },
    {
      "cell_type": "markdown",
      "source": [
        "(e) Print the string from index 4 to 15"
      ],
      "metadata": {
        "id": "onEQTVTozn5w"
      }
    },
    {
      "cell_type": "code",
      "source": [
        "S=str22[4:16]\n",
        "print(S)"
      ],
      "metadata": {
        "colab": {
          "base_uri": "https://localhost:8080/"
        },
        "id": "mgk3S3Yjzsjb",
        "outputId": "2e64e643-f27e-4267-bb8f-2d3776cd5def"
      },
      "execution_count": 60,
      "outputs": [
        {
          "output_type": "stream",
          "name": "stdout",
          "text": [
            "day has been\n"
          ]
        }
      ]
    },
    {
      "cell_type": "markdown",
      "source": [
        "(f) Print the final string with its length"
      ],
      "metadata": {
        "id": "oCFPrLI3z60n"
      }
    },
    {
      "cell_type": "code",
      "source": [
        "len(S)"
      ],
      "metadata": {
        "colab": {
          "base_uri": "https://localhost:8080/"
        },
        "id": "15QGPV1pz1Fh",
        "outputId": "90dc855d-8ea2-430b-b8aa-b77692f2a111"
      },
      "execution_count": 61,
      "outputs": [
        {
          "output_type": "execute_result",
          "data": {
            "text/plain": [
              "12"
            ]
          },
          "metadata": {},
          "execution_count": 61
        }
      ]
    },
    {
      "cell_type": "code",
      "source": [],
      "metadata": {
        "id": "c6um7TvP0CtG"
      },
      "execution_count": null,
      "outputs": []
    }
  ]
}